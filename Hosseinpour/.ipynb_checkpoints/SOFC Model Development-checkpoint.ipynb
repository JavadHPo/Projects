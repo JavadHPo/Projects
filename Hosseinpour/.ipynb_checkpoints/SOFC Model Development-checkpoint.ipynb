{
 "cells": [
  {
   "cell_type": "markdown",
   "metadata": {},
   "source": [
    "Today we will construct some software to model charge-transfer reactions.\n",
    "\n",
    "We will do this using the Butler-Volmer form:\n",
    "\n",
    "$$i = i_\\circ\\left[\\exp\\left(\\frac{\\beta_{\\rm fwd} F\\eta}{RT}\\right) - \\exp\\left(-\\frac{\\beta_{\\rm rev} F\\eta}{RT}\\right)\\right]$$\n",
    "\n",
    "We will model this for a PEMFC full-cell reaction:\n",
    "\n",
    "$${\\rm H_2 + \\frac{1}{2}O_2 \\leftrightharpoons H_2O}$$ \n",
    "\n",
    "at 25$^\\circ$C with humidified H$_2$ (i.e. $X_{H_2O} = 0.03$) and air in the cathode.\n",
    "\n",
    "We will model this using the simplest possible model: assuming fixed gas phase composition and zero transport limitations (i.e. 'flooded cell').\n",
    "\n",
    "In this model, the only state variables are the electric potentials:\n",
    "\n",
    "- The anode potential, $\\phi_{\\rm an}$,\n",
    "- The cathode potential, $\\phi_{\\rm ca}$, and\n",
    "- The electrolyte potential, $\\phi_{\\rm elyte}$,\n",
    "\n",
    "(again, assuming no transport limitations, we assume there is just a single $\\phi_{\\rm elyte}$ value). Because all $\\phi$ values are relative, we even get to pick one of these to be zero.  Let's choose the most negative potential, $\\phi_{\\rm an}$.  All potentials are now relative to $\\phi_{\\rm an}$.  Our solution vector might be written as:\n",
    "\n",
    "$$ SV=\\begin{bmatrix} \\phi_{\\rm elyte} \\\\ \\phi_{\\rm ca}\\end{bmatrix}$$\n",
    "\n",
    "From our conservation of charge, the variables we will actually calculate are the two double-layer voltages, $\\Delta\\phi_{\\rm dl,an}$ and $\\Delta\\phi_{\\rm dl,ca}$, where:\n",
    "\\begin{equation}\n",
    "\\Delta\\phi_{\\rm dl,an} = \\phi_{\\rm elyte} - \\phi_{\\rm an}\n",
    "\\end{equation}\n",
    "and\n",
    "\\begin{equation}\n",
    "\\Delta\\phi_{\\rm dl,ca} = \\phi_{\\rm ca} - \\phi_{\\rm elyte}\n",
    "\\end{equation}\n",
    "Given the assumption $\\phi_{\\rm an} = 0$, solving for these two variables is equivalent to solvin for the $SV$ above:\n",
    "$$ SV=\\begin{bmatrix} \\Delta\\phi_{\\rm dl,an} \\\\ \\Delta\\phi_{\\rm dl,ca}\\end{bmatrix}$$\n",
    "\n",
    "Let's initialzie our model with some guess values, and integrate it with respect to time for a case where _nothing happens_."
   ]
  },
  {
   "cell_type": "code",
   "execution_count": 13,
   "metadata": {},
   "outputs": [
    {
     "data": {
      "text/plain": [
       "<matplotlib.legend.Legend at 0x7fb3751d7940>"
      ]
     },
     "execution_count": 13,
     "metadata": {},
     "output_type": "execute_result"
    },
    {
     "data": {
      "image/png": "[encoded data removed]",
      "text/plain": [
       "<Figure size 432x288 with 1 Axes>"
      ]
     },
     "metadata": {
      "needs_background": "light"
     },
     "output_type": "display_data"
    }
   ],
   "source": [
    "from scipy.integrate import solve_ivp\n",
    "import numpy as np\n",
    "from matplotlib import pyplot as plt\n",
    "from math import exp\n",
    "\n",
    "phi_an = 0\n",
    "phi_elyte_0 = 0.6\n",
    "phi_ca_0 = 1.1\n",
    "\n",
    "C_dl_an = 1e2 # F/m2\n",
    "C_dl_ca = 1e2 # F/m2\n",
    "\n",
    "i_o_an = 2.5\n",
    "i_o_ca = 1\n",
    "n_an = 2\n",
    "n_ca = 4\n",
    "F = 96485\n",
    "beta_ca = 0.5\n",
    "beta_an = 0.5\n",
    "R = 8.3145\n",
    "T = 298\n",
    "\n",
    "delta_Phi_eq_an = 0.61\n",
    "delta_Phi_eq_ca = 0.55\n",
    "\n",
    "i_ext = 20\n",
    "\n",
    "SV_0 = np.array([phi_elyte_0 - phi_an, phi_ca_0 - phi_elyte_0])\n",
    "time_span = np.array([0,100])\n",
    "\n",
    "# define a derivative. \n",
    "def residual(t,SV):\n",
    "    dSV_dt = np.zeros_like(SV)\n",
    "    \n",
    "    eta_an = SV[0] - delta_Phi_eq_an\n",
    "    i_Far_an = i_o_an*(exp(-n_an*F*beta_an*eta_an/R/T)\n",
    "                      - exp(n_an*F*(1-beta_an)*eta_an/R/T))\n",
    "    i_dl_an = i_ext - i_Far_an\n",
    "    dSV_dt[0] = -i_dl_an/C_dl_an\n",
    "    \n",
    "    \n",
    "    eta_ca = SV[1] - delta_Phi_eq_ca\n",
    "    i_Far_ca = i_o_ca*(exp(-n_ca*F*beta_ca*eta_ca/R/T)\n",
    "                      - exp(n_ca*F*(1-beta_ca)*eta_ca/R/T))\n",
    "    i_dl_ca = i_ext - i_Far_ca\n",
    "    \n",
    "    \n",
    "    dSV_dt[1] = -i_dl_ca/C_dl_ca\n",
    "    return dSV_dt\n",
    "\n",
    "solution = solve_ivp(residual,time_span,SV_0,rtol=1e-4, atol=1e-6)\n",
    "\n",
    "for var in solution.y:\n",
    "    plt.plot(solution.t,var)\n",
    "    \n",
    "plt.legend(['Anode double layer','Cathode double layer'])"
   ]
  },
  {
   "cell_type": "markdown",
   "metadata": {},
   "source": [
    "We might rather plot this as the actual voltages.  We can do this in post-processing:"
   ]
  },
  {
   "cell_type": "code",
   "execution_count": 14,
   "metadata": {},
   "outputs": [
    {
     "data": {
      "text/plain": [
       "<matplotlib.legend.Legend at 0x7fb3753e4df0>"
      ]
     },
     "execution_count": 14,
     "metadata": {},
     "output_type": "execute_result"
    },
    {
     "data": {
      "image/png": "[encoded data removed]",
      "text/plain": [
       "<Figure size 432x288 with 1 Axes>"
      ]
     },
     "metadata": {
      "needs_background": "light"
     },
     "output_type": "display_data"
    }
   ],
   "source": [
    "V_elyte = solution.y[0,:]\n",
    "V_ca = V_elyte + solution.y[1,:]\n",
    "plt.plot(solution.t,V_elyte)\n",
    "plt.plot(solution.t,V_ca)\n",
    "\n",
    "plt.xlabel('Time (s)',fontsize=14)\n",
    "plt.ylabel('Electric Potential (V)',fontsize=14)\n",
    "plt.legend(['Electrolyte','Cathode'])"
   ]
  },
  {
   "cell_type": "markdown",
   "metadata": {},
   "source": [
    "Next, we need a governing equation for each variable.  Given an external current $i_{\\rm ext}$, which moves positive charge from cathode to anode, charge neutrality dictates, for the anode:\n",
    "\n",
    "$$i_{\\rm ext} - i_{\\rm Far,an} -i_{\\rm dl,an} = 0$$\n",
    "\n",
    "where $i_{\\rm Far}$ is charge transfer current from the anode to the electrolyte, and $i_{\\rm dl,an}$ is the anode double layer current - positive charge moved to the anode side of the double layer from the anode bulk.  If $i_{\\rm ext}$ and $i_{\\rm Far}$ are not equal, then $i_{\\rm dl}$ changes the double layer potential to bring them in line.  The double layer id modeled as a capacitor, where:\n",
    "\n",
    "$$C_{\\rm dl,an} = \\frac{Q_{\\rm dl,.an}}{\\Delta \\phi_{\\rm dl,an}}$$\n",
    "\n",
    "if we rearrange and take the derivative w/r/t time, we get a differntial equation:\n",
    "\n",
    "$$\\frac{\\partial \\Delta\\phi_{\\rm dl,an}}{\\partial t} = \\frac{dQ_{\\rm dl,an}}{dt}\\frac{1}{C_{\\rm dl,an}} = \\frac{i_{\\rm dl,an}}{C_{\\rm dl,an}}$$\n",
    "\n",
    "with\n",
    "\n",
    "$$i_{\\rm dl,an} = i_{\\rm ext} - i_{\\rm Far,an}$$\n",
    "\n",
    "Simiarly, we can derive for the cathode:\n",
    "\n",
    "$$\\frac{\\partial \\Delta\\phi_{\\rm dl,ca}}{\\partial t} = \\frac{i_{\\rm dl,ca}}{C_{\\rm dl,ca}}$$\n",
    "\n",
    "where \n",
    "\n",
    "$$i_{\\rm dl,ca} = i_{\\rm ext} - i_{\\rm Far,ca}.$$\n",
    "\n",
    "In this case, $i_{\\rm dl,ca}$ and $i_{\\rm Far,ca}$ represent positive charge transferred _to the cathode_.\n",
    "\n",
    "To solve our system of equations, then, it is only necessary (for now!) that we know how to calculate $i_{\\rm Far}$ at each interface!  Which is the subject of your Homework 4!  Joy!!!"
   ]
  },
  {
   "cell_type": "code",
   "execution_count": 4,
   "metadata": {},
   "outputs": [
    {
     "data": {
      "text/plain": [
       "[<matplotlib.lines.Line2D at 0x7fc369ce1490>]"
      ]
     },
     "execution_count": 4,
     "metadata": {},
     "output_type": "execute_result"
    },
    {
     "data": {
      "image/png": "[encoded data removed]",
      "text/plain": [
       "<Figure size 432x288 with 2 Axes>"
      ]
     },
     "metadata": {
      "needs_background": "light"
     },
     "output_type": "display_data"
    }
   ],
   "source": [
    "from scipy.integrate import solve_ivp\n",
    "import numpy as np\n",
    "from matplotlib import pyplot as plt\n",
    "from math import exp\n",
    "\n",
    "import importlib\n",
    "import sofc_init\n",
    "importlib.reload(sofc_init)\n",
    "from sofc_init import pars\n",
    "    \n",
    "from sofc_function import sofc_func\n",
    "\n",
    "def PEMFC_func(i_ext, SV_0, plot_flag):\n",
    "    C_dl_an = 1e4 # F/m2\n",
    "    C_dl_ca = 1e4 # F/m2\n",
    "\n",
    "    i_o_an = 2.5\n",
    "    i_o_ca = 1\n",
    "    n_an = 2\n",
    "    n_ca = 4\n",
    "    F = 96485\n",
    "    beta_ca = 0.5\n",
    "    beta_an = 0.5\n",
    "    R = 8.3145\n",
    "    T = 298\n",
    "\n",
    "    delta_Phi_eq_an = 0.61\n",
    "    delta_Phi_eq_ca = 0.55\n",
    "\n",
    "#     SV_0 = np.array([phi_elyte_0 - phi_an, phi_ca_0 - phi_elyte_0])\n",
    "    time_span = np.array([0,100])\n",
    "\n",
    "    # define a derivative. \n",
    "    def residual(t,SV):\n",
    "        dSV_dt = np.zeros_like(SV)\n",
    "\n",
    "        # Anode Interface:\n",
    "        eta_an = SV[0] - delta_Phi_eq_an\n",
    "        i_Far_an = i_o_an*(exp(-n_an*F*beta_an*eta_an/R/T)\n",
    "                          - exp(n_an*F*(1-beta_an)*eta_an/R/T))\n",
    "        i_dl_an = i_ext - i_Far_an\n",
    "        dSV_dt[0] = -i_dl_an/C_dl_an\n",
    "\n",
    "        # Cathode Interface:\n",
    "        eta_ca = SV[1] - delta_Phi_eq_ca\n",
    "        i_Far_ca = i_o_ca*(exp(-n_ca*F*beta_ca*eta_ca/R/T)\n",
    "                          - exp(n_ca*F*(1-beta_ca)*eta_ca/R/T))\n",
    "        i_dl_ca = i_ext - i_Far_ca\n",
    "\n",
    "\n",
    "        dSV_dt[1] = -i_dl_ca/C_dl_ca\n",
    "        return dSV_dt\n",
    "\n",
    "    solution = solve_ivp(residual,time_span,SV_0,rtol=1e-4, atol=1e-6)\n",
    "\n",
    "    V_elyte = solution.y[0,:]\n",
    "    V_ca = V_elyte + solution.y[1,:]\n",
    "    if plot_flag:\n",
    "        plt.plot(solution.t,V_elyte)\n",
    "        plt.plot(solution.t,V_ca)\n",
    "\n",
    "        plt.xlabel('Time (s)',fontsize=14)\n",
    "        plt.ylabel('Electric Potential (V)',fontsize=14)\n",
    "\n",
    "        plt.legend([r'$\\phi_{\\rm elyte}$',r'$\\phi_{\\rm cathode}$'],fontsize=14,frameon=False)\n",
    "   \n",
    "    return solution.y[:,-1]\n",
    "    \n",
    "#from PEMFC_function import PEMFC_func\n",
    "\n",
    "i_array = np.linspace(0, 1000, 100)\n",
    "V_cell = np.zeros_like(i_array)\n",
    "\n",
    "SV_0 = np.array([0.6, 0.5])\n",
    "\n",
    "SV = np.zeros((SV_0.size,i_array.size))\n",
    "for j,i_ext in enumerate(i_array):\n",
    "    plot = 0\n",
    "    SV[:,j] = PEMFC_func(i_ext, SV_0, plot)\n",
    "    SV_0 = SV[:,j]\n",
    "\n",
    "V_cell = SV[0,:] + SV[1,:]\n",
    "\n",
    "fig, ax1 = plt.subplots()\n",
    "ax1.plot(i_array,V_cell) \n",
    "ax2 = ax1.twinx()\n",
    "ax2.plot(i_array,V_cell*i_array)\n",
    "#plt.axis([0, 1000, 0.8, 1.2])\n",
    "#ax2 = ax1.twinx()\n",
    "#ax2.plot(i_array,V_cell*i_array)"
   ]
  },
  {
   "cell_type": "code",
   "execution_count": 7,
   "metadata": {},
   "outputs": [
    {
     "ename": "TypeError",
     "evalue": "sofc_func() missing 1 required positional argument: 'plot_flag'",
     "output_type": "error",
     "traceback": [
      "\u001b[0;31m---------------------------------------------------------------------------\u001b[0m",
      "\u001b[0;31mTypeError\u001b[0m                                 Traceback (most recent call last)",
      "\u001b[0;32m<ipython-input-7-5818aae3865a>\u001b[0m in \u001b[0;36m<module>\u001b[0;34m\u001b[0m\n\u001b[1;32m     11\u001b[0m \u001b[0;32mfor\u001b[0m \u001b[0mj\u001b[0m\u001b[0;34m,\u001b[0m\u001b[0mpars\u001b[0m\u001b[0;34m.\u001b[0m\u001b[0mT\u001b[0m \u001b[0;32min\u001b[0m \u001b[0menumerate\u001b[0m\u001b[0;34m(\u001b[0m\u001b[0mT_array\u001b[0m\u001b[0;34m)\u001b[0m\u001b[0;34m:\u001b[0m\u001b[0;34m\u001b[0m\u001b[0;34m\u001b[0m\u001b[0m\n\u001b[1;32m     12\u001b[0m     \u001b[0mplot\u001b[0m \u001b[0;34m=\u001b[0m \u001b[0;36m0\u001b[0m\u001b[0;34m\u001b[0m\u001b[0;34m\u001b[0m\u001b[0m\n\u001b[0;32m---> 13\u001b[0;31m     \u001b[0mSV\u001b[0m\u001b[0;34m[\u001b[0m\u001b[0;34m:\u001b[0m\u001b[0;34m,\u001b[0m\u001b[0mj\u001b[0m\u001b[0;34m]\u001b[0m \u001b[0;34m=\u001b[0m \u001b[0msofc_func\u001b[0m\u001b[0;34m(\u001b[0m\u001b[0mpars\u001b[0m\u001b[0;34m.\u001b[0m\u001b[0mT\u001b[0m\u001b[0;34m,\u001b[0m \u001b[0mSV_0\u001b[0m\u001b[0;34m,\u001b[0m \u001b[0mplot\u001b[0m\u001b[0;34m)\u001b[0m\u001b[0;34m\u001b[0m\u001b[0;34m\u001b[0m\u001b[0m\n\u001b[0m\u001b[1;32m     14\u001b[0m     \u001b[0mSV_0\u001b[0m \u001b[0;34m=\u001b[0m \u001b[0mSV\u001b[0m\u001b[0;34m[\u001b[0m\u001b[0;34m:\u001b[0m\u001b[0;34m,\u001b[0m\u001b[0mj\u001b[0m\u001b[0;34m]\u001b[0m\u001b[0;34m\u001b[0m\u001b[0;34m\u001b[0m\u001b[0m\n\u001b[1;32m     15\u001b[0m \u001b[0;34m\u001b[0m\u001b[0m\n",
      "\u001b[0;31mTypeError\u001b[0m: sofc_func() missing 1 required positional argument: 'plot_flag'"
     ]
    }
   ],
   "source": [
    "#The effect of temperature on voltage\n",
    "from sofc_function import sofc_func\n",
    "\n",
    "T_array = np.linspace(300, 800, 5)\n",
    "#print(T_array)\n",
    "V_cell = np.zeros_like(T_array)\n",
    "\n",
    "SV_0 = np.array([0.6, 0.5])\n",
    "\n",
    "SV = np.zeros((SV_0.size,T_array.size))\n",
    "for j,pars.T in enumerate(T_array):\n",
    "    plot = 0\n",
    "    SV[:,j] = sofc_func(pars.T, SV_0, plot)\n",
    "    SV_0 = SV[:,j]\n",
    "\n",
    "V_cell = SV[0,:] + SV[1,:]\n",
    "#print(V_cell)\n",
    "#P_cell = np.zeros_like(T_array)\n",
    "#P_cell = V_cell*pars.i_ext\n",
    "\n",
    "fig, ax1 = plt.subplots()\n",
    "ax1.plot(T_array,V_cell) \n",
    "#ax2 = ax1.twinx()\n",
    "#ax2.plot(T_array,P_cell)"
   ]
  },
  {
   "cell_type": "code",
   "execution_count": 9,
   "metadata": {},
   "outputs": [
    {
     "name": "stdout",
     "output_type": "stream",
     "text": [
      "[300. 400. 500. 600.]\n"
     ]
    },
    {
     "ename": "TypeError",
     "evalue": "sofc_func() missing 1 required positional argument: 'plot_flag'",
     "output_type": "error",
     "traceback": [
      "\u001b[0;31m---------------------------------------------------------------------------\u001b[0m",
      "\u001b[0;31mTypeError\u001b[0m                                 Traceback (most recent call last)",
      "\u001b[0;32m<ipython-input-9-1892f4b33b17>\u001b[0m in \u001b[0;36m<module>\u001b[0;34m\u001b[0m\n\u001b[1;32m     20\u001b[0m \u001b[0;32mfor\u001b[0m \u001b[0mj\u001b[0m\u001b[0;34m,\u001b[0m\u001b[0mi_ext\u001b[0m \u001b[0;32min\u001b[0m \u001b[0menumerate\u001b[0m\u001b[0;34m(\u001b[0m\u001b[0mi_array\u001b[0m\u001b[0;34m)\u001b[0m\u001b[0;34m:\u001b[0m\u001b[0;34m\u001b[0m\u001b[0;34m\u001b[0m\u001b[0m\n\u001b[1;32m     21\u001b[0m         \u001b[0mplot\u001b[0m \u001b[0;34m=\u001b[0m \u001b[0;36m0\u001b[0m\u001b[0;34m\u001b[0m\u001b[0;34m\u001b[0m\u001b[0m\n\u001b[0;32m---> 22\u001b[0;31m         \u001b[0mSV\u001b[0m\u001b[0;34m[\u001b[0m\u001b[0;34m:\u001b[0m\u001b[0;34m,\u001b[0m\u001b[0mj\u001b[0m\u001b[0;34m]\u001b[0m \u001b[0;34m=\u001b[0m \u001b[0msofc_func\u001b[0m\u001b[0;34m(\u001b[0m\u001b[0mi_ext\u001b[0m\u001b[0;34m,\u001b[0m \u001b[0mSV_0\u001b[0m\u001b[0;34m,\u001b[0m \u001b[0mplot\u001b[0m\u001b[0;34m)\u001b[0m\u001b[0;34m\u001b[0m\u001b[0;34m\u001b[0m\u001b[0m\n\u001b[0m\u001b[1;32m     23\u001b[0m         \u001b[0mSV_0\u001b[0m \u001b[0;34m=\u001b[0m \u001b[0mSV\u001b[0m\u001b[0;34m[\u001b[0m\u001b[0;34m:\u001b[0m\u001b[0;34m,\u001b[0m\u001b[0mj\u001b[0m\u001b[0;34m]\u001b[0m\u001b[0;34m\u001b[0m\u001b[0;34m\u001b[0m\u001b[0m\n\u001b[1;32m     24\u001b[0m \u001b[0;34m\u001b[0m\u001b[0m\n",
      "\u001b[0;31mTypeError\u001b[0m: sofc_func() missing 1 required positional argument: 'plot_flag'"
     ]
    }
   ],
   "source": [
    "import importlib\n",
    "\n",
    "import sofc_init\n",
    "importlib.reload(sofc_init)\n",
    "from sofc_init import pars\n",
    "    \n",
    "from sofc_function import sofc_func\n",
    "\n",
    "i_array = np.linspace(0, 1000, 100)\n",
    "V_cell = np.zeros_like(i_array)\n",
    "\n",
    "SV_0 = np.array([0.6, 0.5])\n",
    "\n",
    "SV = np.zeros((SV_0.size,i_array.size))\n",
    "\n",
    "T_array = np.linspace(300, 600, 4)\n",
    "print(T_array)\n",
    "\n",
    "#pars.T = 300\n",
    "for j,i_ext in enumerate(i_array):\n",
    "        plot = 0\n",
    "        SV[:,j] = sofc_func(i_ext, SV_0, plot)\n",
    "        SV_0 = SV[:,j]\n",
    "\n",
    "V_cell = SV[0,:] + SV[1,:]\n",
    "\n",
    "plt.plot(i_array,V_cell)\n",
    "plt.xlabel('Current density (A/m^2)',fontsize=14)\n",
    "plt.ylabel('Cell voltage (V)',fontsize=14)\n",
    "#plt.legend(['T=600 K','T=800 K','T=1200 K'])\n",
    "plt.title('Temperature effect on the polarization curve')\n",
    "plt.show()\n",
    "#fig, ax1 = plt.subplots()\n",
    "#ax1.plot(i_array,V_cell) \n",
    "#ax2 = ax1.twinx()\n",
    "#ax2.plot(i_array,V_cell*i_array)"
   ]
  },
  {
   "cell_type": "code",
   "execution_count": null,
   "metadata": {},
   "outputs": [],
   "source": []
  }
 ],
 "metadata": {
  "kernelspec": {
   "display_name": "Python 3",
   "language": "python",
   "name": "python3"
  },
  "language_info": {
   "codemirror_mode": {
    "name": "ipython",
    "version": 3
   },
   "file_extension": ".py",
   "mimetype": "text/x-python",
   "name": "python",
   "nbconvert_exporter": "python",
   "pygments_lexer": "ipython3",
   "version": "3.8.3"
  }
 },
 "nbformat": 4,
 "nbformat_minor": 4
}
